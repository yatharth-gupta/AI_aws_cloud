{
 "cells": [
  {
   "cell_type": "code",
   "execution_count": 11,
   "id": "42acec13",
   "metadata": {},
   "outputs": [],
   "source": [
    "allOS = [] # list of all OS"
   ]
  },
  {
   "cell_type": "code",
   "execution_count": 12,
   "id": "4bce0981",
   "metadata": {
    "scrolled": true
   },
   "outputs": [
    {
     "name": "stdout",
     "output_type": "stream",
     "text": [
      "[]\n",
      "no hands\n",
      "[]\n",
      "no hands\n",
      "[]\n",
      "no hands\n",
      "[]\n",
      "no hands\n",
      "[]\n",
      "no hands\n",
      "[]\n",
      "no hands\n",
      "[{'lmList': [[219, 456, 0], [337, 420, -67], [441, 335, -102], [523, 264, -131], [611, 226, -161], [356, 173, -40], [393, 70, -78], [420, 3, -115], [443, -48, -142], [287, 156, -36], [307, 41, -68], [324, -34, -107], [340, -87, -135], [215, 165, -41], [227, 49, -74], [237, -23, -107], [248, -80, -130], [139, 197, -52], [133, 98, -83], [133, 32, -102], [136, -25, -115]], 'bbox': (133, -87, 478, 543), 'center': (372, 184), 'type': 'Right'}]\n",
      "[1, 1, 1, 1, 1]\n",
      "[[219, 456, 0], [337, 420, -67], [441, 335, -102], [523, 264, -131], [611, 226, -161], [356, 173, -40], [393, 70, -78], [420, 3, -115], [443, -48, -142], [287, 156, -36], [307, 41, -68], [324, -34, -107], [340, -87, -135], [215, 165, -41], [227, 49, -74], [237, -23, -107], [248, -80, -130], [139, 197, -52], [133, 98, -83], [133, 32, -102], [136, -25, -115]]\n",
      "not touching\n",
      "[{'lmList': [[289, 382, 0], [338, 368, -20], [379, 334, -28], [410, 302, -35], [444, 292, -41], [349, 277, -10], [376, 238, -22], [394, 213, -33], [409, 192, -42], [322, 267, -10], [338, 218, -19], [351, 187, -31], [362, 160, -40], [295, 268, -12], [305, 221, -23], [317, 193, -34], [329, 168, -41], [265, 277, -16], [266, 240, -27], [271, 216, -33], [277, 192, -37]], 'bbox': (265, 160, 179, 222), 'center': (354, 271), 'type': 'Right'}]\n",
      "[1, 1, 1, 1, 1]\n",
      "[[289, 382, 0], [338, 368, -20], [379, 334, -28], [410, 302, -35], [444, 292, -41], [349, 277, -10], [376, 238, -22], [394, 213, -33], [409, 192, -42], [322, 267, -10], [338, 218, -19], [351, 187, -31], [362, 160, -40], [295, 268, -12], [305, 221, -23], [317, 193, -34], [329, 168, -41], [265, 277, -16], [266, 240, -27], [271, 216, -33], [277, 192, -37]]\n",
      "not touching\n",
      "[{'lmList': [[276, 377, 0], [324, 364, -21], [364, 330, -29], [394, 299, -35], [426, 288, -41], [334, 274, -11], [361, 234, -23], [379, 210, -34], [395, 189, -42], [307, 264, -10], [322, 215, -20], [336, 183, -32], [347, 157, -40], [279, 264, -12], [290, 218, -24], [302, 188, -35], [314, 164, -43], [250, 273, -16], [248, 238, -28], [253, 216, -34], [261, 195, -38]], 'bbox': (248, 157, 178, 220), 'center': (337, 267), 'type': 'Right'}]\n",
      "[1, 1, 1, 1, 1]\n",
      "[[276, 377, 0], [324, 364, -21], [364, 330, -29], [394, 299, -35], [426, 288, -41], [334, 274, -11], [361, 234, -23], [379, 210, -34], [395, 189, -42], [307, 264, -10], [322, 215, -20], [336, 183, -32], [347, 157, -40], [279, 264, -12], [290, 218, -24], [302, 188, -35], [314, 164, -43], [250, 273, -16], [248, 238, -28], [253, 216, -34], [261, 195, -38]]\n",
      "not touching\n"
     ]
    }
   ],
   "source": [
    "from cvzone.HandTrackingModule import HandDetector # pip install cvzone\n",
    "import cv2 \n",
    "import boto3 # pip install boto3\n",
    "def add_OS(): # add an instance\n",
    "    ec2 = boto3.resource(\"ec2\") # create an ec2 (Elastic Compute Cloud) resource\n",
    "    instances = ec2.create_instances(   # create an instance\n",
    "        ImageId=\"ami-0a2acf24c0d86e927\", # Amazon Machine Image (AMI) ID that will be used to launch the instance\n",
    "        MinCount=1, # minimum number of instances to launch\n",
    "        MaxCount=1, # maximum number of instances to launch\n",
    "        InstanceType=\"t2.micro\", # free tier, low RAM and CPU\n",
    "        SecurityGroupIds=[\"sg-061fc03509c386fb6\"] # used for defining rules of inbound and outbound traffic\n",
    "    )\n",
    "    allOS.append(instances[0].id) # add the instance id to the array\n",
    "    print(len(allOS))\n",
    "    \n",
    "def deleteOS(): # delete an instance\n",
    "    ec2 = boto3.resource(\"ec2\") # create an ec2 resource\n",
    "    if(len(allOS)>0):\n",
    "        lastOS = allOS.pop()\n",
    "        ec2.instances.filter(InstanceIds = [lastOS]).terminate() # terminate the instance\n",
    "        print(len(allOS))\n",
    "    else:\n",
    "        print(\"array empty\")\n",
    "    \n",
    "cap = cv2.VideoCapture(0) # capture video from default webcam\n",
    "while(True):\n",
    "    status, photo = cap.read() # read the video frame by frame, stauts is a boolean representing if the frame was read correctly\n",
    "#     crop = photo[100:400,100:400] # might need to crop the image\n",
    "    cv2.imshow(\"my-image\",photo) # show the image\n",
    "    if (cv2.waitKey(1000) == 13): # if enter is pressed, exit the loop, release the video capture, and destroy all windows (every 1 second)\n",
    "        cap.release()\n",
    "        cv2.destroyAllWindows()\n",
    "        break;\n",
    "    detector = HandDetector(maxHands=1) # create a hand detector object\n",
    "    ishand = detector.findHands(photo,draw=False) # find hands in the image, draw true will draw the hand landmarks\n",
    "    if(ishand): \n",
    "        fingerlist = ishand[0]\n",
    "        fingers = detector.fingersUp(fingerlist)\n",
    "        print(fingers)\n",
    "        print(ishand[0][\"lmList\"])\n",
    "        x = ishand[0][\"lmList\"][4][0] - ishand[0][\"lmList\"][8][0]; # dist b/w tip of thumb\n",
    "        y = ishand[0][\"lmList\"][4][1] - ishand[0][\"lmList\"][8][1]; # dist b/w tip of index finger\n",
    "        if(abs(x)<=20 and abs(y)<=20): # if index and thumb are touching on tip, add an instance\n",
    "            print(\"Touching\")\n",
    "            cv2.waitKey(3000)\n",
    "            add_OS()\n",
    "            cap.release()\n",
    "            cv2.destroyAllWindows()\n",
    "            break;\n",
    "        elif(fingers == [0,1,1,0,0]): # if index and middle finger are shown, delete an instance\n",
    "            print(\"2 fingers\")\n",
    "            cv2.waitKey(3000)\n",
    "            deleteOS()\n",
    "            cap.release()\n",
    "            cv2.destroyAllWindows()\n",
    "            break;\n",
    "        else:\n",
    "            print(\"not touching\")\n",
    "    else:\n",
    "        print(\"no hands\")"
   ]
  }
 ],
 "metadata": {
  "kernelspec": {
   "display_name": "Python 3 (ipykernel)",
   "language": "python",
   "name": "python3"
  },
  "language_info": {
   "codemirror_mode": {
    "name": "ipython",
    "version": 3
   },
   "file_extension": ".py",
   "mimetype": "text/x-python",
   "name": "python",
   "nbconvert_exporter": "python",
   "pygments_lexer": "ipython3",
   "version": "3.10.12"
  }
 },
 "nbformat": 4,
 "nbformat_minor": 5
}
