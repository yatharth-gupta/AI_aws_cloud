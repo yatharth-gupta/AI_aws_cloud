{
 "cells": [
  {
   "cell_type": "code",
   "execution_count": 7,
   "id": "42acec13",
   "metadata": {},
   "outputs": [],
   "source": [
    "allOS = []"
   ]
  },
  {
   "cell_type": "code",
   "execution_count": 3,
   "id": "4bce0981",
   "metadata": {
    "scrolled": true
   },
   "outputs": [
    {
     "name": "stdout",
     "output_type": "stream",
     "text": [
      "[1, 0, 0, 0, 0]\n",
      "[1, 0, 0, 0, 1]\n",
      "[1, 0, 0, 0, 0]\n",
      "[1, 0, 0, 0, 0]\n",
      "[0, 1, 1, 1, 1]\n",
      "[1, 1, 1, 1, 1]\n",
      "[1, 1, 1, 1, 1]\n",
      "[1, 1, 1, 1, 1]\n",
      "[1, 1, 1, 1, 1]\n",
      "[0, 1, 1, 1, 1]\n",
      "[0, 1, 1, 1, 1]\n",
      "[0, 1, 1, 1, 1]\n",
      "[0, 1, 1, 1, 1]\n",
      "[0, 0, 1, 1, 1]\n",
      "[0, 0, 1, 1, 1]\n",
      "[0, 0, 1, 1, 1]\n",
      "[0, 0, 1, 1, 0]\n",
      "[0, 0, 1, 1, 0]\n",
      "[0, 0, 1, 1, 0]\n",
      "[0, 0, 1, 1, 0]\n",
      "[0, 0, 1, 1, 0]\n",
      "[0, 1, 1, 1, 1]\n",
      "[0, 1, 1, 1, 1]\n",
      "[0, 1, 1, 1, 1]\n",
      "[0, 1, 1, 1, 1]\n",
      "[0, 1, 1, 1, 1]\n"
     ]
    }
   ],
   "source": [
    "from cvzone.HandTrackingModule import HandDetector\n",
    "import cv2\n",
    "import boto3\n",
    "def add_OS():\n",
    "    ec2 = boto3.resource(\"ec2\")\n",
    "    instances = ec2.create_instances(\n",
    "        ImageId=\"ami-0a2acf24c0d86e927\",\n",
    "        MinCount=1,\n",
    "        MaxCount=1,\n",
    "        InstanceType=\"t2.micro\",\n",
    "        SecurityGroupIds=[\"sg-061fc03509c386fb6\"]\n",
    "    )\n",
    "    allOS.append(instances[0].id)\n",
    "    print(len(allOS))\n",
    "    \n",
    "def deleteOS():\n",
    "    ec2 = boto3.resource(\"ec2\")\n",
    "    if(len(allOS)>0):\n",
    "        lastOS = allOS.pop()\n",
    "        ec2.instances.filter(InstanceIds = [lastOS]).terminate()\n",
    "        print(len(allOS))\n",
    "    else:\n",
    "        print(\"array empty\")\n",
    "    \n",
    "cap = cv2.VideoCapture(0)\n",
    "while(True):\n",
    "    status, photo = cap.read()\n",
    "#     crop = photo[100:400,100:400]\n",
    "    cv2.imshow(\"my-image\",photo)\n",
    "    if (cv2.waitKey(1000) == 13):\n",
    "        cap.release()\n",
    "        cv2.destroyAllWindows()\n",
    "        break;\n",
    "    detector = HandDetector(maxHands=1)\n",
    "    ishand = detector.findHands(photo,draw=False)\n",
    "#     cv2.imshow(\"new photo\",photo)\n",
    "#     cv2.waitKey()\n",
    "#     cv2.destroyAllWindows()\n",
    "    # print(ishand[0])\n",
    "    if(ishand):\n",
    "        fingerlist = ishand[0]\n",
    "        fingers = detector.fingersUp(fingerlist)\n",
    "        print(fingers)\n",
    "        print(ishand[0][\"lmList\"])\n",
    "        x = ishand[0][\"lmList\"][4][0] - ishand[0][\"lmList\"][8][0]; # tip of thumb\n",
    "        y = ishand[0][\"lmList\"][4][1] - ishand[0][\"lmList\"][8][1]; # tip of index finger\n",
    "        if(abs(x)<=20 and abs(y)<=20): # if index and thumb are touching on tip, add an instance\n",
    "            print(\"Touching\")\n",
    "            cv2.waitKey(3000)\n",
    "            add_OS()\n",
    "            cap.release()\n",
    "            cv2.destroyAllWindows()\n",
    "            break;\n",
    "        elif(fingers == [0,1,1,0,0]): # if index and middle finger are shown, delete an instance\n",
    "            print(\"2 fingers\")\n",
    "            cv2.waitKey(3000)\n",
    "            deleteOS()\n",
    "            cap.release()\n",
    "            cv2.destroyAllWindows()\n",
    "            break;\n",
    "        else:\n",
    "            print(\"not touching\")\n",
    "    else:\n",
    "        print(\"no hands\")"
   ]
  }
 ],
 "metadata": {
  "kernelspec": {
   "display_name": "Python 3 (ipykernel)",
   "language": "python",
   "name": "python3"
  },
  "language_info": {
   "codemirror_mode": {
    "name": "ipython",
    "version": 3
   },
   "file_extension": ".py",
   "mimetype": "text/x-python",
   "name": "python",
   "nbconvert_exporter": "python",
   "pygments_lexer": "ipython3",
   "version": "3.10.9"
  }
 },
 "nbformat": 4,
 "nbformat_minor": 5
}
